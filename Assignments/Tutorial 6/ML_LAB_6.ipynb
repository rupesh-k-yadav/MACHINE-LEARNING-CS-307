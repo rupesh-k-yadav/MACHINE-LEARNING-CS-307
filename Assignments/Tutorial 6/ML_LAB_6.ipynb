{
  "nbformat": 4,
  "nbformat_minor": 0,
  "metadata": {
    "colab": {
      "name": "ML_LAB_6.ipynb",
      "provenance": []
    },
    "kernelspec": {
      "name": "python3",
      "display_name": "Python 3"
    },
    "language_info": {
      "name": "python"
    }
  },
  "cells": [
    {
      "cell_type": "code",
      "metadata": {
        "id": "7dMHq5s6_4zh"
      },
      "source": [
        "import numpy as np\n",
        "import matplotlib.pyplot as plt\n",
        "import scipy.stats as stats\n",
        "import math\n",
        "import random\n"
      ],
      "execution_count": null,
      "outputs": []
    },
    {
      "cell_type": "code",
      "metadata": {
        "id": "B2RR_aauADSp"
      },
      "source": [
        "def dataSet():\n",
        "    X_train = np.array([-4, -3, -2, -1, 1]).reshape(-1, 1)\n",
        "    Y_train = np.sin(X_train)\n",
        "    X_test = np.arange(-5, 5, 0.2).reshape(-1, 1)\n",
        "    return X_train,Y_train,X_test"
      ],
      "execution_count": null,
      "outputs": []
    },
    {
      "cell_type": "code",
      "metadata": {
        "id": "CoGgdIuIADZu"
      },
      "source": [
        "def kernel(X1,X2, scale=1.0, sigma_f = 1.0):\n",
        "    sqdist = np.sum(X1 ** 2 ,1).reshape(-1,1) + np.sum(X2**2,1) - 2 * np.dot(X1,X2.T)\n",
        "    return sigma_f**2  * np.exp(-0.5 / scale**2  * sqdist)"
      ],
      "execution_count": null,
      "outputs": []
    },
    {
      "cell_type": "code",
      "metadata": {
        "id": "-KQ99QxVATAW"
      },
      "source": [
        "def plot(mu, cov, X, X_train=None, Y_train=None, samples=[]):\n",
        "    X = X.ravel()\n",
        "    mu = mu.ravel()\n",
        "    uncertainty = 1.96 * np.sqrt(np.diag(cov))\n",
        "    plt.fill_between(X, mu + uncertainty, mu - uncertainty, alpha=0.1)\n",
        "    plt.plot(X, mu, label='Mean')\n",
        "    for i, sample in enumerate(samples):\n",
        "        plt.plot(X, sample, lw=1, ls='--', label=f'Sample {i+1}')\n",
        "    if X_train is not None:\n",
        "        plt.plot(X_train, Y_train, 'rx')\n",
        "    plt.plot(X_train,Y_train,label='True')    \n",
        "    plt.legend()\n",
        "    \n",
        "X_train,Y_train,X_test =  dataSet()"
      ],
      "execution_count": null,
      "outputs": []
    },
    {
      "cell_type": "code",
      "metadata": {
        "id": "GhDsGwwNATF8"
      },
      "source": [
        "beta = 25\n",
        "C = kernel(X_train,X_train)\n",
        "k = kernel(X_train,X_test)\n",
        "c = kernel(X_test,X_test)\n",
        "\n",
        "C = C + np.eye(C.shape[0])* (1/beta)\n",
        "L = np.linalg.cholesky(C)\n",
        "alpha = np.dot(np.linalg.inv(L.T),np.dot(np.linalg.inv(L),Y_train))\n",
        "f = np.dot(k.T , alpha)\n",
        "v = np.dot(np.linalg.inv(L) , k)\n",
        "var = c - np.dot(v.T,v)"
      ],
      "execution_count": null,
      "outputs": []
    },
    {
      "cell_type": "code",
      "metadata": {
        "colab": {
          "base_uri": "https://localhost:8080/",
          "height": 265
        },
        "id": "RykowgITATOM",
        "outputId": "54a4108a-a54b-43ee-e7a2-85d33fd5a3a9"
      },
      "source": [
        "plot(f, var, X_test, X_train, Y_train)"
      ],
      "execution_count": null,
      "outputs": [
        {
          "output_type": "display_data",
          "data": {
            "image/png": "[encoded data removed]",
            "text/plain": [
              "<Figure size 432x288 with 1 Axes>"
            ]
          },
          "metadata": {
            "tags": [],
            "needs_background": "light"
          }
        }
      ]
    }
  ]
}